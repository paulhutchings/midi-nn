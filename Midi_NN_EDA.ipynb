{
  "nbformat": 4,
  "nbformat_minor": 0,
  "metadata": {
    "colab": {
      "name": "Midi-NN EDA.ipynb",
      "provenance": [],
      "collapsed_sections": [],
      "authorship_tag": "ABX9TyPTozkd1J/TeATIvMF6wPFk",
      "include_colab_link": true
    },
    "kernelspec": {
      "name": "python3",
      "display_name": "Python 3"
    }
  },
  "cells": [
    {
      "cell_type": "markdown",
      "metadata": {
        "id": "view-in-github",
        "colab_type": "text"
      },
      "source": [
        "<a href=\"https://colab.research.google.com/github/paulhutchings/midi-nn/blob/note_sequences/Midi_NN_EDA.ipynb\" target=\"_parent\"><img src=\"https://colab.research.google.com/assets/colab-badge.svg\" alt=\"Open In Colab\"/></a>"
      ]
    },
    {
      "cell_type": "markdown",
      "metadata": {
        "id": "6gjNMFzO_S79"
      },
      "source": [
        "# MIDI-NN EDA with IPeC Dataset\n",
        "\n",
        "This notebook contains an Exploratory Data Analysis (EDA) of the International Piano e-Competition dataset(IPeC). The notebook guides the user through downloading the dataset from Github, converting the MIDI files to NoteSequences for easier use, and performing a number of data operations to get an insight into the MIDI data contained in the dataset.\n",
        "\n",
        "The notebook contains several checkpoints where you can either download crucial files to save, or re-upload files from an earlier session to save time."
      ]
    },
    {
      "cell_type": "code",
      "metadata": {
        "id": "bAotdx5X_PhB"
      },
      "source": [
        "# install dependencies\n",
        "%pip install note-seq multiprocess"
      ],
      "execution_count": null,
      "outputs": []
    },
    {
      "cell_type": "markdown",
      "metadata": {
        "id": "1gUdk194bDAY"
      },
      "source": [
        "## Downloading and pre-processing the data\n",
        "The dataset contains over 2000 MIDI files and can be downloaded as a single `.zip` file from a Google Cloud Storage Bucket, or as smaller `.tar.gz` archives from [Github](https://github.com/paulhutchings/international-e-piano-dataset)"
      ]
    },
    {
      "cell_type": "code",
      "metadata": {
        "id": "gqvqOabRFohs"
      },
      "source": [
        "# download the dataset hosted on GCS and extract the files\n",
        "!curl -o midi.zip https://storage.googleapis.com/datasets.studiop.page/international-e-piano-midi_2002-2018.zip\n",
        "!unzip midi.zip\n",
        "!ls"
      ],
      "execution_count": null,
      "outputs": []
    },
    {
      "cell_type": "code",
      "metadata": {
        "id": "Dq3m4Pcr0Ect"
      },
      "source": [
        "# or upload .zip file from your computer\n",
        "from google.colab import files\n",
        "uploaded = files.upload()\n",
        "!unzip midi.zip\n",
        "!ls"
      ],
      "execution_count": null,
      "outputs": []
    },
    {
      "cell_type": "markdown",
      "metadata": {
        "id": "yfLJcG-RI61w"
      },
      "source": [
        "Now, we will convert all of the MIDI files into [NoteSequences](https://github.com/magenta/note-seq), a serialized data structure used by Google's Magenta project that is much easier to work with than raw MIDI files.\n",
        "\n",
        "The conversion process below creates a dictionary of the file names to the NoteSequence representations and writes them to a file for later use. The code utilizes the `multiprocess` module, a fork of the normal `multiprocessing` module, to speed up the conversion time. Feel free to adjust the parameters below to suit your needs.\n"
      ]
    },
    {
      "cell_type": "code",
      "metadata": {
        "id": "Gw4PnvRSUt7-"
      },
      "source": [
        "from note_seq import midi_file_to_note_sequence\n",
        "import json, argparse, os, time\n",
        "from multiprocess import Pool\n",
        "\n",
        "input_dir = 'midi'\n",
        "out_file = 'notesequences'\n",
        "processes = 8"
      ],
      "execution_count": null,
      "outputs": []
    },
    {
      "cell_type": "code",
      "metadata": {
        "id": "Cv1xjPFsUS7p"
      },
      "source": [
        "def convert_midi_files(args):\n",
        "    input_dir, files = args\n",
        "    filemap = {} # dictionary of filenames to NoteSequences for reconstruction\n",
        "    for file in files:\n",
        "        print(f'Converting {file}...')\n",
        "        filename = file[:-4]\n",
        "        input_path = input_dir + '/' + file\n",
        "        sequence = midi_file_to_note_sequence(input_path)\n",
        "        filemap[filename] = sequence.SerializeToString()\n",
        "    return filemap"
      ],
      "execution_count": null,
      "outputs": []
    },
    {
      "cell_type": "code",
      "metadata": {
        "id": "kgKB9eyzUW77"
      },
      "source": [
        "def merge_dicts(dicts):\n",
        "    merged = {}\n",
        "    for d in dicts:\n",
        "        merged = {**merged, **d}\n",
        "    return merged\n",
        "\n",
        "def split(arr, n):\n",
        "    k, m = divmod(len(arr), n)\n",
        "    return (arr[i * k + min(i, m):(i + 1) * k + min(i + 1, m)] for i in range(n))"
      ],
      "execution_count": null,
      "outputs": []
    },
    {
      "cell_type": "code",
      "metadata": {
        "id": "sQ03Mg_XU_xq"
      },
      "source": [
        "if __name__ == '__main__':\n",
        "    start = time.time()\n",
        "\n",
        "    files = [file for file in os.listdir(input_dir) if file.lower().endswith('.mid')]\n",
        "    split_files = list(split(files, processes))\n",
        "\n",
        "    # parallelize the conversions. Merge the dictionaries at the end\n",
        "    with Pool(processes) as pool:\n",
        "        results = pool.map(convert_midi_files, [(input_dir, split_files[i]) for i in range(len(split_files))])\n",
        "    filemaps = merge_dicts(results)\n",
        "    end = time.time() - start\n",
        "\n",
        "    # Write dictionary to file for later use\n",
        "    with open(out_file, 'w') as outfile:\n",
        "        outfile.write(str(filemaps))\n",
        "    print('Done')\n",
        "    print(f'Conversion took {round(end, 2)}s')"
      ],
      "execution_count": null,
      "outputs": []
    },
    {
      "cell_type": "markdown",
      "metadata": {
        "id": "_oUUyGPNed2y"
      },
      "source": [
        "### Checkpoint - download/upload NoteSequences file\n",
        "Start here if you've already converted the MIDI files into NoteSequences. You can either download or upload the NoteSequences file. Uploaded files will retain their filename and be placed into the current working directory of the notebook."
      ]
    },
    {
      "cell_type": "code",
      "metadata": {
        "id": "EGoyo09EedWf"
      },
      "source": [
        "from google.colab import files\n",
        "files.download('notesequences')"
      ],
      "execution_count": null,
      "outputs": []
    },
    {
      "cell_type": "code",
      "metadata": {
        "id": "UluhLcT_zNZF"
      },
      "source": [
        "from google.colab import files\n",
        "uploaded = files.upload()\n",
        "!ls"
      ],
      "execution_count": null,
      "outputs": []
    },
    {
      "cell_type": "markdown",
      "metadata": {
        "id": "OwzV5EnEbA7I"
      },
      "source": [
        "## Dataset Analysis\n",
        "We'll begin with some simple statistics. We'll gather the following statistics:\n",
        "\n",
        "\n",
        "*   Max\n",
        "*   Min\n",
        "*   Average\n",
        "*   Media\n",
        "*   Standard deviation\n",
        "\n",
        "For each of the following attributes of each NoteSequence:\n",
        "\n",
        "\n",
        "*   Note velocity\n",
        "*   Pitch\n",
        "*   Note duration\n",
        "\n"
      ]
    },
    {
      "cell_type": "code",
      "metadata": {
        "id": "8rPPjZFGbhMX"
      },
      "source": [
        "# imports\n",
        "import pandas as pd\n",
        "import numpy as np\n",
        "import bokeh, os, ast, functools\n",
        "from note_seq.protobuf import music_pb2"
      ],
      "execution_count": null,
      "outputs": []
    },
    {
      "cell_type": "code",
      "metadata": {
        "id": "IYopOSh3cVzE"
      },
      "source": [
        "# convert notesequences file back into dictionary\n",
        "def load_ns_file(file):\n",
        "    with open(file, 'r') as file:\n",
        "        filemaps = ast.literal_eval(file.read())\n",
        "    for key in filemaps:\n",
        "        filemaps[key] = music_pb2.NoteSequence().FromString(filemaps[key])\n",
        "    return filemaps"
      ],
      "execution_count": null,
      "outputs": []
    },
    {
      "cell_type": "code",
      "metadata": {
        "id": "5LXEmxZofzOW"
      },
      "source": [
        "# returns common statistics for an array of items\n",
        "def get_stats(arr):\n",
        "  return [\n",
        "          max(arr),\n",
        "          min(arr),\n",
        "          round(np.average(arr), 2),\n",
        "          round(np.median(arr), 2),\n",
        "          round(np.std(arr), 2)\n",
        "  ]\n",
        "\n",
        "# gets statistics for each sequence\n",
        "def get_sequence_stats(seq):\n",
        "  notes = seq.notes\n",
        "  seq_length = len(notes)\n",
        "\n",
        "  velocities = [note.velocity for note in notes]\n",
        "  vel_stats = get_stats(velocities)\n",
        "\n",
        "  pitches = [note.pitch for note in notes]\n",
        "  num_unique_pitches = len(set(pitches))\n",
        "  pitch_stats = get_stats(pitches)\n",
        "\n",
        "  durations = [round(note.end_time - note.start_time, 2)  for note in notes]\n",
        "  dur_stats = get_stats(durations)\n",
        "\n",
        "  return [seq_length, num_unique_pitches] + vel_stats + pitch_stats + dur_stats\n"
      ],
      "execution_count": null,
      "outputs": []
    },
    {
      "cell_type": "code",
      "metadata": {
        "id": "rSBc7g9NeFH6"
      },
      "source": [
        "num_midi_files = len(os.listdir('midi'))\n",
        "ns = load_ns_file('notesequences')\n",
        "\n",
        "# create a Pandas DataFrame for the statistics\n",
        "stats = [[name] + get_sequence_stats(seq) for (name, seq) in ns.items()]\n",
        "df_cols = [\n",
        "           'Sequence name', \n",
        "           'Sequence length',\n",
        "           'Number of unique pitches',\n",
        "           'Max velocity', \n",
        "           'Min velocity', \n",
        "           'Avg velocity', \n",
        "           'Median velocity', \n",
        "           'Velocity std',\n",
        "           'Highest pitch',\n",
        "           'Lowest pitch',\n",
        "           'Avg pitch',\n",
        "           'Median pitch',\n",
        "           'Pitch std',\n",
        "           'Longest note (s)',\n",
        "           'Shortest note (s)',\n",
        "           'Avg duration (s)',\n",
        "           'Median duration (s)',\n",
        "           'Duration std'\n",
        "]\n",
        "df = pd.DataFrame(stats, columns=df_cols)\n",
        "df.to_csv('stats.csv')"
      ],
      "execution_count": null,
      "outputs": []
    },
    {
      "cell_type": "markdown",
      "metadata": {
        "id": "5onksfSj0sag"
      },
      "source": [
        "### Checkpoint - upload/download CSV stats file"
      ]
    },
    {
      "cell_type": "code",
      "metadata": {
        "id": "TMtdckoo1YKP",
        "outputId": "d3c6957b-1d34-4f67-b015-cb371603e77a",
        "colab": {
          "base_uri": "https://localhost:8080/",
          "height": 17
        }
      },
      "source": [
        "from google.colab import files\n",
        "files.download('data/stats.csv')"
      ],
      "execution_count": null,
      "outputs": [
        {
          "output_type": "display_data",
          "data": {
            "application/javascript": [
              "\n",
              "    async function download(id, filename, size) {\n",
              "      if (!google.colab.kernel.accessAllowed) {\n",
              "        return;\n",
              "      }\n",
              "      const div = document.createElement('div');\n",
              "      const label = document.createElement('label');\n",
              "      label.textContent = `Downloading \"${filename}\": `;\n",
              "      div.appendChild(label);\n",
              "      const progress = document.createElement('progress');\n",
              "      progress.max = size;\n",
              "      div.appendChild(progress);\n",
              "      document.body.appendChild(div);\n",
              "\n",
              "      const buffers = [];\n",
              "      let downloaded = 0;\n",
              "\n",
              "      const channel = await google.colab.kernel.comms.open(id);\n",
              "      // Send a message to notify the kernel that we're ready.\n",
              "      channel.send({})\n",
              "\n",
              "      for await (const message of channel.messages) {\n",
              "        // Send a message to notify the kernel that we're ready.\n",
              "        channel.send({})\n",
              "        if (message.buffers) {\n",
              "          for (const buffer of message.buffers) {\n",
              "            buffers.push(buffer);\n",
              "            downloaded += buffer.byteLength;\n",
              "            progress.value = downloaded;\n",
              "          }\n",
              "        }\n",
              "      }\n",
              "      const blob = new Blob(buffers, {type: 'application/binary'});\n",
              "      const a = document.createElement('a');\n",
              "      a.href = window.URL.createObjectURL(blob);\n",
              "      a.download = filename;\n",
              "      div.appendChild(a);\n",
              "      a.click();\n",
              "      div.remove();\n",
              "    }\n",
              "  "
            ],
            "text/plain": [
              "<IPython.core.display.Javascript object>"
            ]
          },
          "metadata": {
            "tags": []
          }
        },
        {
          "output_type": "display_data",
          "data": {
            "application/javascript": [
              "download(\"download_bdb0a70c-caf3-4a1d-b3c0-39b7073662ce\", \"stats.csv\", 223304)"
            ],
            "text/plain": [
              "<IPython.core.display.Javascript object>"
            ]
          },
          "metadata": {
            "tags": []
          }
        }
      ]
    },
    {
      "cell_type": "code",
      "metadata": {
        "id": "p_oYVw5On8t_"
      },
      "source": [
        "from google.colab import files\n",
        "uploaded = files.upload()\n",
        "!ls\n",
        "df = pd.read_csv('stats.csv')"
      ],
      "execution_count": null,
      "outputs": []
    },
    {
      "cell_type": "code",
      "metadata": {
        "id": "q1j5LKbZoWod",
        "outputId": "c1af89c9-b420-46a1-d6e6-7722acdfa697",
        "colab": {
          "base_uri": "https://localhost:8080/",
          "height": 447
        }
      },
      "source": [
        "print(f'Total number of sequences (MIDI files): {num_midi_files}')\n",
        "df.head(10)"
      ],
      "execution_count": null,
      "outputs": [
        {
          "output_type": "stream",
          "text": [
            "Total number of sequences (MIDI files): 2431\n"
          ],
          "name": "stdout"
        },
        {
          "output_type": "execute_result",
          "data": {
            "text/html": [
              "<div>\n",
              "<style scoped>\n",
              "    .dataframe tbody tr th:only-of-type {\n",
              "        vertical-align: middle;\n",
              "    }\n",
              "\n",
              "    .dataframe tbody tr th {\n",
              "        vertical-align: top;\n",
              "    }\n",
              "\n",
              "    .dataframe thead th {\n",
              "        text-align: right;\n",
              "    }\n",
              "</style>\n",
              "<table border=\"1\" class=\"dataframe\">\n",
              "  <thead>\n",
              "    <tr style=\"text-align: right;\">\n",
              "      <th></th>\n",
              "      <th>Sequence name</th>\n",
              "      <th>Sequence length</th>\n",
              "      <th>Number of unique pitches</th>\n",
              "      <th>Max velocity</th>\n",
              "      <th>Min velocity</th>\n",
              "      <th>Avg velocity</th>\n",
              "      <th>Median velocity</th>\n",
              "      <th>Velocity std</th>\n",
              "      <th>Highest pitch</th>\n",
              "      <th>Lowest pitch</th>\n",
              "      <th>Avg pitch</th>\n",
              "      <th>Median pitch</th>\n",
              "      <th>Pitch std</th>\n",
              "      <th>Longest note (s)</th>\n",
              "      <th>Shortest note (s)</th>\n",
              "      <th>Avg duration (s)</th>\n",
              "      <th>Median duration (s)</th>\n",
              "      <th>Duration std</th>\n",
              "    </tr>\n",
              "  </thead>\n",
              "  <tbody>\n",
              "    <tr>\n",
              "      <th>0</th>\n",
              "      <td>Ozel01</td>\n",
              "      <td>1529</td>\n",
              "      <td>45</td>\n",
              "      <td>100</td>\n",
              "      <td>3</td>\n",
              "      <td>61.82</td>\n",
              "      <td>61.0</td>\n",
              "      <td>16.01</td>\n",
              "      <td>84</td>\n",
              "      <td>38</td>\n",
              "      <td>64.29</td>\n",
              "      <td>65.0</td>\n",
              "      <td>9.63</td>\n",
              "      <td>14.48</td>\n",
              "      <td>0.00</td>\n",
              "      <td>0.76</td>\n",
              "      <td>0.52</td>\n",
              "      <td>0.88</td>\n",
              "    </tr>\n",
              "    <tr>\n",
              "      <th>1</th>\n",
              "      <td>Hebert03</td>\n",
              "      <td>1391</td>\n",
              "      <td>60</td>\n",
              "      <td>95</td>\n",
              "      <td>3</td>\n",
              "      <td>61.07</td>\n",
              "      <td>63.0</td>\n",
              "      <td>12.47</td>\n",
              "      <td>96</td>\n",
              "      <td>28</td>\n",
              "      <td>70.69</td>\n",
              "      <td>73.0</td>\n",
              "      <td>12.93</td>\n",
              "      <td>5.95</td>\n",
              "      <td>0.00</td>\n",
              "      <td>0.09</td>\n",
              "      <td>0.06</td>\n",
              "      <td>0.32</td>\n",
              "    </tr>\n",
              "    <tr>\n",
              "      <th>2</th>\n",
              "      <td>KIM_W03</td>\n",
              "      <td>12338</td>\n",
              "      <td>80</td>\n",
              "      <td>114</td>\n",
              "      <td>6</td>\n",
              "      <td>68.93</td>\n",
              "      <td>70.0</td>\n",
              "      <td>17.05</td>\n",
              "      <td>105</td>\n",
              "      <td>25</td>\n",
              "      <td>69.83</td>\n",
              "      <td>69.0</td>\n",
              "      <td>16.30</td>\n",
              "      <td>3.23</td>\n",
              "      <td>0.00</td>\n",
              "      <td>0.11</td>\n",
              "      <td>0.05</td>\n",
              "      <td>0.23</td>\n",
              "    </tr>\n",
              "    <tr>\n",
              "      <th>3</th>\n",
              "      <td>Teo04</td>\n",
              "      <td>1934</td>\n",
              "      <td>70</td>\n",
              "      <td>113</td>\n",
              "      <td>3</td>\n",
              "      <td>72.66</td>\n",
              "      <td>73.0</td>\n",
              "      <td>14.86</td>\n",
              "      <td>100</td>\n",
              "      <td>24</td>\n",
              "      <td>58.30</td>\n",
              "      <td>59.0</td>\n",
              "      <td>13.17</td>\n",
              "      <td>0.85</td>\n",
              "      <td>0.00</td>\n",
              "      <td>0.08</td>\n",
              "      <td>0.06</td>\n",
              "      <td>0.08</td>\n",
              "    </tr>\n",
              "    <tr>\n",
              "      <th>4</th>\n",
              "      <td>PrjevalskayaM16</td>\n",
              "      <td>3085</td>\n",
              "      <td>84</td>\n",
              "      <td>121</td>\n",
              "      <td>2</td>\n",
              "      <td>60.41</td>\n",
              "      <td>62.0</td>\n",
              "      <td>24.62</td>\n",
              "      <td>106</td>\n",
              "      <td>21</td>\n",
              "      <td>66.29</td>\n",
              "      <td>68.0</td>\n",
              "      <td>17.71</td>\n",
              "      <td>6.97</td>\n",
              "      <td>0.00</td>\n",
              "      <td>0.11</td>\n",
              "      <td>0.07</td>\n",
              "      <td>0.21</td>\n",
              "    </tr>\n",
              "    <tr>\n",
              "      <th>5</th>\n",
              "      <td>KorchinskayaKogan07</td>\n",
              "      <td>13805</td>\n",
              "      <td>85</td>\n",
              "      <td>126</td>\n",
              "      <td>1</td>\n",
              "      <td>68.99</td>\n",
              "      <td>69.0</td>\n",
              "      <td>18.69</td>\n",
              "      <td>107</td>\n",
              "      <td>21</td>\n",
              "      <td>62.56</td>\n",
              "      <td>63.0</td>\n",
              "      <td>15.42</td>\n",
              "      <td>15.78</td>\n",
              "      <td>0.01</td>\n",
              "      <td>0.23</td>\n",
              "      <td>0.08</td>\n",
              "      <td>0.56</td>\n",
              "    </tr>\n",
              "    <tr>\n",
              "      <th>6</th>\n",
              "      <td>YeZ05</td>\n",
              "      <td>8673</td>\n",
              "      <td>76</td>\n",
              "      <td>111</td>\n",
              "      <td>3</td>\n",
              "      <td>63.56</td>\n",
              "      <td>64.0</td>\n",
              "      <td>16.69</td>\n",
              "      <td>102</td>\n",
              "      <td>27</td>\n",
              "      <td>65.37</td>\n",
              "      <td>67.0</td>\n",
              "      <td>12.39</td>\n",
              "      <td>13.35</td>\n",
              "      <td>0.00</td>\n",
              "      <td>0.15</td>\n",
              "      <td>0.09</td>\n",
              "      <td>0.41</td>\n",
              "    </tr>\n",
              "    <tr>\n",
              "      <th>7</th>\n",
              "      <td>ChernovA22</td>\n",
              "      <td>1349</td>\n",
              "      <td>68</td>\n",
              "      <td>92</td>\n",
              "      <td>6</td>\n",
              "      <td>44.70</td>\n",
              "      <td>43.0</td>\n",
              "      <td>11.95</td>\n",
              "      <td>102</td>\n",
              "      <td>22</td>\n",
              "      <td>63.97</td>\n",
              "      <td>65.0</td>\n",
              "      <td>12.78</td>\n",
              "      <td>7.15</td>\n",
              "      <td>0.03</td>\n",
              "      <td>0.51</td>\n",
              "      <td>0.24</td>\n",
              "      <td>0.76</td>\n",
              "    </tr>\n",
              "    <tr>\n",
              "      <th>8</th>\n",
              "      <td>Shi06</td>\n",
              "      <td>13323</td>\n",
              "      <td>86</td>\n",
              "      <td>112</td>\n",
              "      <td>1</td>\n",
              "      <td>56.53</td>\n",
              "      <td>57.0</td>\n",
              "      <td>20.38</td>\n",
              "      <td>107</td>\n",
              "      <td>21</td>\n",
              "      <td>65.36</td>\n",
              "      <td>67.0</td>\n",
              "      <td>16.29</td>\n",
              "      <td>18.40</td>\n",
              "      <td>0.00</td>\n",
              "      <td>0.18</td>\n",
              "      <td>0.07</td>\n",
              "      <td>0.41</td>\n",
              "    </tr>\n",
              "    <tr>\n",
              "      <th>9</th>\n",
              "      <td>Zhdanov11</td>\n",
              "      <td>8501</td>\n",
              "      <td>87</td>\n",
              "      <td>124</td>\n",
              "      <td>1</td>\n",
              "      <td>75.80</td>\n",
              "      <td>78.0</td>\n",
              "      <td>18.00</td>\n",
              "      <td>107</td>\n",
              "      <td>21</td>\n",
              "      <td>68.30</td>\n",
              "      <td>70.0</td>\n",
              "      <td>18.91</td>\n",
              "      <td>2.20</td>\n",
              "      <td>0.00</td>\n",
              "      <td>0.11</td>\n",
              "      <td>0.06</td>\n",
              "      <td>0.18</td>\n",
              "    </tr>\n",
              "  </tbody>\n",
              "</table>\n",
              "</div>"
            ],
            "text/plain": [
              "         Sequence name  Sequence length  ...  Median duration (s)  Duration std\n",
              "0               Ozel01             1529  ...                 0.52          0.88\n",
              "1             Hebert03             1391  ...                 0.06          0.32\n",
              "2              KIM_W03            12338  ...                 0.05          0.23\n",
              "3                Teo04             1934  ...                 0.06          0.08\n",
              "4      PrjevalskayaM16             3085  ...                 0.07          0.21\n",
              "5  KorchinskayaKogan07            13805  ...                 0.08          0.56\n",
              "6                YeZ05             8673  ...                 0.09          0.41\n",
              "7           ChernovA22             1349  ...                 0.24          0.76\n",
              "8                Shi06            13323  ...                 0.07          0.41\n",
              "9            Zhdanov11             8501  ...                 0.06          0.18\n",
              "\n",
              "[10 rows x 18 columns]"
            ]
          },
          "metadata": {
            "tags": []
          },
          "execution_count": 11
        }
      ]
    },
    {
      "cell_type": "markdown",
      "metadata": {
        "id": "76g0ibWReaMY"
      },
      "source": [
        "### Distributions\n",
        "\n",
        "Now that we have an overview of the data, let's move on to some more interesting visualizations. We'll now create a series of histograms to view the distribution of the above statistics.\n",
        "\n"
      ]
    },
    {
      "cell_type": "code",
      "metadata": {
        "id": "pQJvpiyKpSX3"
      },
      "source": [
        "# function to help create histograms\n",
        "from bokeh.plotting import figure\n",
        "from bokeh.io import output_notebook, show, output_file\n",
        "from bokeh.models import ColumnDataSource, HoverTool, Panel\n",
        "from bokeh.models.widgets import Tabs\n",
        "\n",
        "\n",
        "def hist_hover(dataframe, column, colors=[\"SteelBlue\", \"Tan\"], bins=30, log_scale=False, show_plot=True):\n",
        "\n",
        "    # build histogram data with Numpy\n",
        "    hist, edges = np.histogram(dataframe[column], bins = bins)\n",
        "    hist_df = pd.DataFrame({column: hist,\n",
        "                             \"left\": edges[:-1],\n",
        "                             \"right\": edges[1:]})\n",
        "    hist_df[\"interval\"] = [\"%d to %d\" % (left, right) for left, \n",
        "                           right in zip(hist_df[\"left\"], hist_df[\"right\"])]\n",
        "\n",
        "    # bokeh histogram with hover tool\n",
        "    if log_scale == True:\n",
        "        hist_df[\"log\"] = np.log(hist_df[column])\n",
        "        src = ColumnDataSource(hist_df)\n",
        "        plot = figure(plot_height = 400, plot_width = 600,\n",
        "              title = \"Histogram of {}\".format(column.capitalize()),\n",
        "              x_axis_label = column.capitalize(),\n",
        "              y_axis_label = \"Log Count\")    \n",
        "        plot.quad(bottom = 0, top = \"log\",left = \"left\", \n",
        "            right = \"right\", source = src, fill_color = colors[0], \n",
        "            line_color = \"black\", fill_alpha = 0.7,\n",
        "            hover_fill_alpha = 1.0, hover_fill_color = colors[1])\n",
        "    else:\n",
        "        src = ColumnDataSource(hist_df)\n",
        "        plot = figure(plot_height = 400, plot_width = 600,\n",
        "              title = \"Histogram of {}\".format(column.capitalize()),\n",
        "              x_axis_label = column.capitalize(),\n",
        "              y_axis_label = \"Number of sequences\")    \n",
        "        plot.quad(bottom = 0, top = column,left = \"left\", \n",
        "            right = \"right\", source = src, fill_color = colors[0], \n",
        "            line_color = \"black\", fill_alpha = 0.7,\n",
        "            hover_fill_alpha = 1.0, hover_fill_color = colors[1])\n",
        "    # hover tool\n",
        "    hover = HoverTool(tooltips = [('Interval', '@interval'),\n",
        "                              ('Number of sequences', f'@{column}')])\n",
        "    plot.add_tools(hover)\n",
        "    # output\n",
        "    if show_plot == True:\n",
        "        show(plot)\n",
        "    else:\n",
        "        return plot"
      ],
      "execution_count": null,
      "outputs": []
    },
    {
      "cell_type": "code",
      "metadata": {
        "id": "Rb82MD9CeZzG"
      },
      "source": [
        "# create histogram of note lengths\n",
        "from bokeh.plotting import output_notebook\n",
        "output_notebook()\n",
        "cols = [\n",
        "         'Sequence length',\n",
        "         'Number of unique pitches',\n",
        "         'Median velocity',\n",
        "         'Velocity std',\n",
        "         'Median pitch',\n",
        "         'Pitch std',\n",
        "         'Median duration (s)',\n",
        "         'Duration std'\n",
        "]\n",
        "for col in cols:\n",
        "  hist_hover(df, col, bins=10)\n"
      ],
      "execution_count": null,
      "outputs": []
    },
    {
      "cell_type": "markdown",
      "metadata": {
        "id": "s5KY8euHX_q6"
      },
      "source": [
        "### Analysis\n",
        "\n",
        "As we can see from the distributions above, the vast majority of the sequences (MIDI files) contain less than 10,000 notes, and the number of files with more notes drops off significantly.\n",
        "\n",
        "We can also see that the sequences in general have a farily large variety of pitches, with most of them containing more than 75% of all available pitches on the Piano (88).\n",
        "\n",
        "The distribution of median velocity is grouped somewhat closely around the middle. Since velocities are 0-127, we see the 63-69 bin leading by a large margin, while the bins to the sides fall off very quickly as we get into the higher and lower velocities. This means that the general dynamic level of all of our sequences is fairly similar, since we do not have many samples with a very low or very high median velocity.\n",
        "\n",
        "When it comes to the standard deviation of velocities, we again see a clsuter in the middle around the 15-20 range, or around 12-16% variation in dynamics throughout the sequence. This reinforces what the median velocity shows us regarding the overall dynamic level of the dataset.\n",
        "\n",
        "Despite having a large number of samples with a high number of unique pitches, the median and std deviation of pitch still remains a strong bell-curve shape around the middle of the keyboard, particularly the range of the right hand. While this is not surprising from a musical perspective, we may have expected a slightly wider curve in the distribution.\n",
        "\n",
        "The last 2 charts are probably the most intersting. They show that the overwhelming majority of notes in the sequences are of a short duration - \"fast\" notes, if you like. This suggests one of two things: one - that the tempos for most sequences are faster, or two - the values of most of the notes is relatively small. The answer to this would have to come from viewing the sheet music for each sequence, or incorperating the MIDI tempo and time signature data into this analysis. This was not done at the time due to being unaware that they could possibly provide additional insight into the dataset, and also to keep the EDA from being too complex/time consuming."
      ]
    },
    {
      "cell_type": "markdown",
      "metadata": {
        "id": "PDoPIpIpBesh"
      },
      "source": [
        "### Relationships\n",
        "\n",
        "Next, we'll create some scatter plots to see if there are any relationships between the 3 attributes. Specifically, we want to see if there is any relationship between velocity, pitch, and duration, as well as between the sequence length and number of unique pitches."
      ]
    },
    {
      "cell_type": "code",
      "metadata": {
        "id": "EBPwI8D9BeXF"
      },
      "source": [
        "from bokeh.plotting import figure\n",
        "\n",
        "def create_scatter(df, xcol, ycol, color='SteelBlue', showPlot=True):\n",
        "  p = figure(plot_height=400, plot_width=600, title=f'{xcol} vs {ycol}', \n",
        "             x_axis_label=xcol, y_axis_label=ycol)\n",
        "  p.circle(x=df[xcol], y=df[ycol], alpha=0.5, fill_color=color, line_color=None)\n",
        "  if showPlot:\n",
        "    show(p)\n",
        "  else:\n",
        "    return p"
      ],
      "execution_count": null,
      "outputs": []
    },
    {
      "cell_type": "code",
      "metadata": {
        "id": "BfyeSiWEIkt5"
      },
      "source": [
        "from bokeh.plotting import output_notebook\n",
        "output_notebook()\n",
        "\n",
        "create_scatter(df, 'Sequence length', 'Median duration (s)')\n",
        "create_scatter(df, 'Median velocity', 'Median duration (s)', 'DarkOrange')\n",
        "create_scatter(df, 'Median velocity', 'Median pitch', 'Purple')\n",
        "create_scatter(df, 'Sequence length', 'Number of unique pitches', 'Green')\n",
        "create_scatter(df, 'Number of unique pitches', 'Velocity std', 'DarkRed')"
      ],
      "execution_count": null,
      "outputs": []
    },
    {
      "cell_type": "markdown",
      "metadata": {
        "id": "rZLB0ybuhhoC"
      },
      "source": [
        "### Analysis\n",
        "\n",
        "While there are no very strong relationships between the different attributes in the dataset, there are some weaker ones that are of interest.\n",
        "\n",
        "The first 2 plots deal with the Median Duration. There is a noticible curve where as the duration of the sequence increases, the median note duration decreases. The second shows us that in general, as the velocity increases, the duration decreases. What both of these trends show us is that the longer the sequence, the more shorter, louder notes it contains, whereas the shorter sequences are more likely to contain longer and/or softer notes.\n",
        "\n",
        "The third plot concerning Median Pitc vs Median Velocity is interesting due to the very strict grid pattern that results. I having a feeling that this implies some sort of relationship or has some sort of significance, I just don't what that is.\n",
        "\n",
        "We do see another weak trend of longer sequences usually containing more unique pitches - which makes sense from a logical standpoint. However, the curve starts to come back down as we get longer, resulting in a shape resembling the beginnings of an upside-down U. This could be due to musical forms and structures, where material is reused - increasing the length but not adding to the uniqueness of pitches used.\n",
        "\n",
        "In the final scatter plot we see another interesting trend. In general, we see that the seuqneces with a higher number of unique pitches also tend to have a higher std deviation in velocity. In other words, the sequences that have a large variety of pitches in them also have a large dynamic contrast. It would stand to reason that those samples would be more valuable for training given their more varied content.\n",
        "\n",
        "Overall, we see a lot of stratification in the scatter plots. That is, clusters of dots long a single line/value in either the x or y axis. Given the fine-grained nature of several of the statistics, such as number of notes, and the median/std deviations, being more crude when categorizing the data - such as rounding to whole numbers instead of decimals, and binning according to wider ranges, may provide different insights by \"clearing up\" some of the more noisy data."
      ]
    },
    {
      "cell_type": "markdown",
      "metadata": {
        "id": "pp1ZIlcOlJs7"
      },
      "source": [
        "### Conclusions\n",
        "\n",
        "When it comes to training a machine learning model on musical expression, there are a few insights that may be relevant to the development of the model architecture. Such an example is the indication that the general dynamic levels hover around the medians very closely. I believe that this could present a problem where the model does not learn dynamic expression well enough, and as a result produces sequences with little to no dynamic variation."
      ]
    }
  ]
}
