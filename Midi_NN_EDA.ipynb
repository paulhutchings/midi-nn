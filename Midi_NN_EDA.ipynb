{
  "nbformat": 4,
  "nbformat_minor": 0,
  "metadata": {
    "colab": {
      "name": "Midi-NN EDA.ipynb",
      "provenance": [],
      "collapsed_sections": [],
      "authorship_tag": "ABX9TyNTH1sp4HBn1DphzCsg3BJQ",
      "include_colab_link": true
    },
    "kernelspec": {
      "name": "python3",
      "display_name": "Python 3"
    }
  },
  "cells": [
    {
      "cell_type": "markdown",
      "metadata": {
        "id": "view-in-github",
        "colab_type": "text"
      },
      "source": [
        "<a href=\"https://colab.research.google.com/github/paulhutchings/midi-nn/blob/note_sequences/Midi_NN_EDA.ipynb\" target=\"_parent\"><img src=\"https://colab.research.google.com/assets/colab-badge.svg\" alt=\"Open In Colab\"/></a>"
      ]
    },
    {
      "cell_type": "markdown",
      "metadata": {
        "id": "6gjNMFzO_S79"
      },
      "source": [
        "This notebook contains an Exploratory Data Analysis (EDA) of the International Piano e-Competition dataset(IPeC). The notebook guides the user through downloading the dataset from Github, converting the MIDI files to NoteSequences for easier use, and performing a number of data operations to get an insight into the MIDI data contained in the dataset."
      ]
    },
    {
      "cell_type": "code",
      "metadata": {
        "id": "bAotdx5X_PhB"
      },
      "source": [
        "# install dependencies\n",
        "!pip3 install note-seq"
      ],
      "execution_count": null,
      "outputs": []
    },
    {
      "cell_type": "code",
      "metadata": {
        "id": "gqvqOabRFohs"
      },
      "source": [
        "# download the dataset hosted on Github and extract the files\n",
        "!mkdir dataset && git clone https://github.com/paulhutchings/international-e-piano-dataset dataset\n",
        "!cat dataset/international-e-piano-midi_2002-2018.tar.gz.parta* > dataset/midi.tar.gz\n",
        "!mkdir data data/midi data/notesequences && tar -xf dataset/midi.tar.gz -C data/midi\n",
        "!ls data"
      ],
      "execution_count": 9,
      "outputs": []
    },
    {
      "cell_type": "markdown",
      "metadata": {
        "id": "yfLJcG-RI61w"
      },
      "source": [
        "Now, we will convert all of the MIDI files into NoteSequences, a serialized data structure used by Google's Magenta project which is much easier to work with than raw MIDI files."
      ]
    }
  ]
}