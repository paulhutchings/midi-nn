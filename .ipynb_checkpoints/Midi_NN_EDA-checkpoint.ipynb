{
 "cells": [
  {
   "cell_type": "markdown",
   "metadata": {
    "colab_type": "text",
    "id": "view-in-github"
   },
   "source": [
    "<a href=\"https://colab.research.google.com/github/paulhutchings/midi-nn/blob/note_sequences/Midi_NN_EDA.ipynb\" target=\"_parent\"><img src=\"https://colab.research.google.com/assets/colab-badge.svg\" alt=\"Open In Colab\"/></a>"
   ]
  },
  {
   "cell_type": "markdown",
   "metadata": {
    "id": "6gjNMFzO_S79"
   },
   "source": [
    "This notebook contains an Exploratory Data Analysis (EDA) of the International Piano e-Competition dataset(IPeC). The notebook guides the user through downloading the dataset from Github, converting the MIDI files to NoteSequences for easier use, and performing a number of data operations to get an insight into the MIDI data contained in the dataset."
   ]
  },
  {
   "cell_type": "code",
   "execution_count": null,
   "metadata": {
    "id": "bAotdx5X_PhB"
   },
   "outputs": [],
   "source": [
    "# install dependencies\n",
    "!pip3 install note-seq"
   ]
  },
  {
   "cell_type": "code",
   "execution_count": 9,
   "metadata": {
    "id": "gqvqOabRFohs"
   },
   "outputs": [],
   "source": [
    "# download the dataset hosted on Github and extract the files\n",
    "!mkdir dataset && git clone https://github.com/paulhutchings/international-e-piano-dataset dataset\n",
    "!cat dataset/international-e-piano-midi_2002-2018.tar.gz.parta* > dataset/midi.tar.gz\n",
    "!mkdir data data/midi data/notesequences && tar -xf dataset/midi.tar.gz -C data/midi\n",
    "!ls data"
   ]
  },
  {
   "cell_type": "markdown",
   "metadata": {
    "id": "yfLJcG-RI61w"
   },
   "source": [
    "Now, we will convert all of the MIDI files into NoteSequences, a serialized data structure used by Google's Magenta project which is much easier to work with than raw MIDI files."
   ]
  }
 ],
 "metadata": {
  "colab": {
   "authorship_tag": "ABX9TyNTH1sp4HBn1DphzCsg3BJQ",
   "collapsed_sections": [],
   "include_colab_link": true,
   "name": "Midi-NN EDA.ipynb",
   "provenance": []
  },
  "kernelspec": {
   "display_name": "Python 3",
   "language": "python",
   "name": "python3"
  },
  "language_info": {
   "codemirror_mode": {
    "name": "ipython",
    "version": 3
   },
   "file_extension": ".py",
   "mimetype": "text/x-python",
   "name": "python",
   "nbconvert_exporter": "python",
   "pygments_lexer": "ipython3",
   "version": "3.8.2"
  }
 },
 "nbformat": 4,
 "nbformat_minor": 1
}
